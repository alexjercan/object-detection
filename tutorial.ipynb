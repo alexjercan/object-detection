{
  "nbformat": 4,
  "nbformat_minor": 0,
  "metadata": {
    "colab": {
      "name": "Untitled1.ipynb",
      "provenance": [],
      "collapsed_sections": [],
      "authorship_tag": "ABX9TyOTrLqiUbBAOoaDw7NfkGDT",
      "include_colab_link": true
    },
    "kernelspec": {
      "name": "python3",
      "display_name": "Python 3"
    },
    "language_info": {
      "name": "python"
    },
    "accelerator": "GPU"
  },
  "cells": [
    {
      "cell_type": "markdown",
      "metadata": {
        "id": "view-in-github",
        "colab_type": "text"
      },
      "source": [
        "<a href=\"https://colab.research.google.com/github/alexjercan/object-detection/blob/master/tutorial.ipynb\" target=\"_parent\"><img src=\"https://colab.research.google.com/assets/colab-badge.svg\" alt=\"Open In Colab\"/></a>"
      ]
    },
    {
      "cell_type": "code",
      "metadata": {
        "id": "1pImgZIYmAQZ"
      },
      "source": [
        "# git clone\n",
        "!git clone https://github.com/alexjercan/object-detection\n",
        "%cd object-detection\n",
        "\n",
        "import torch\n",
        "from IPython.display import clear_output\n",
        "\n",
        "clear_output()\n",
        "print('Setup complete. Using torch %s %s' % (torch.__version__, torch.cuda.get_device_properties(0) if torch.cuda.is_available() else 'CPU'))"
      ],
      "execution_count": null,
      "outputs": []
    },
    {
      "cell_type": "code",
      "metadata": {
        "id": "VLlo7kDLqRmZ"
      },
      "source": [
        "# download dataset\n",
        "torch.hub.download_url_to_file('https://github.com/alexjercan/object-detection/releases/download/1.0/bdataset108.zip', 'tmp.zip')\n",
        "!unzip -q tmp.zip -d ../ && rm tmp.zip"
      ],
      "execution_count": null,
      "outputs": []
    },
    {
      "cell_type": "code",
      "metadata": {
        "id": "Ayxwm6M9g9om"
      },
      "source": [
        "import cv2\n",
        "import torch\n",
        "import config\n",
        "import torch.optim as optim\n",
        "\n",
        "from tqdm import tqdm\n",
        "from train import train\n",
        "from test import test\n",
        "from data.dataset import create_dataloader\n",
        "from model.model import Model\n",
        "from model.loss import LossFunction\n",
        "from util.general import L_RGB, L_DEPTH, L_NORMAL, build_targets, save_checkpoint, load_checkpoint, count_channles, load_yaml\n"
      ],
      "execution_count": null,
      "outputs": []
    },
    {
      "cell_type": "code",
      "metadata": {
        "id": "y2XSQdAOlmr5"
      },
      "source": [
        "# config\n",
        "scaled_anchors = (\n",
        "    torch.tensor(config.ANCHORS)\n",
        "    * torch.tensor(config.S).unsqueeze(1).unsqueeze(1).repeat(1, 3, 2)\n",
        ").to(config.DEVICE)\n",
        "\n",
        "config.DATASET = \"bdataset108\"\n",
        "config.IMG_DIR = \"../\" + config.DATASET + \"/images/\"\n",
        "config.LABEL_DIR = \"../\" + config.DATASET + \"/labels/\"\n",
        "config.LOAD_MODEL = False\n",
        "\n",
        "torch.backends.cudnn.benchmark = True"
      ],
      "execution_count": null,
      "outputs": []
    },
    {
      "cell_type": "code",
      "metadata": {
        "id": "RV6gIopanEyK"
      },
      "source": [
        "# create model\n",
        "model = Model(model_dict=load_yaml(config.MODEL_DICT),\n",
        "                  in_channels=count_channles(config.LAYERS),\n",
        "                  num_classes=config.NUM_CLASSES\n",
        "                  ).to(config.DEVICE)\n",
        "optimizer = optim.Adam(model.parameters(),\n",
        "                        lr=config.LEARNING_RATE,\n",
        "                        weight_decay=config.WEIGHT_DECAY)\n",
        "loss_fn = LossFunction()\n",
        "scaler = torch.cuda.amp.GradScaler()\n",
        "\n",
        "if config.LOAD_MODEL:\n",
        "    load_checkpoint(config.CHECKPOINT_FILE, model, optimizer, config.LEARNING_RATE, config.DEVICE)"
      ],
      "execution_count": null,
      "outputs": []
    },
    {
      "cell_type": "code",
      "metadata": {
        "id": "YgPnqSQ8nKRV"
      },
      "source": [
        "# create train dataloader\n",
        "dataset, loader = create_dataloader(config.IMG_DIR + \"/train\", config.LABEL_DIR + \"/train\", image_size=config.IMAGE_SIZE,\n",
        "                                    batch_size=config.BATCH_SIZE, S=config.S, anchors=config.ANCHORS,\n",
        "                                    transform=None, used_layers=config.LAYERS)"
      ],
      "execution_count": null,
      "outputs": []
    },
    {
      "cell_type": "code",
      "metadata": {
        "id": "2CoZkxPSnOBk"
      },
      "source": [
        "# train model\n",
        "for epoch in range(config.NUM_EPOCHS):\n",
        "    train(loader, model, optimizer, loss_fn, scaler, scaled_anchors)"
      ],
      "execution_count": null,
      "outputs": []
    },
    {
      "cell_type": "code",
      "metadata": {
        "id": "XFSE-KU0o-_i"
      },
      "source": [
        "# create test dataloader\n",
        "dataset, loader = create_dataloader(config.IMG_DIR + \"/test\", config.LABEL_DIR + \"/test\", image_size=config.IMAGE_SIZE,\n",
        "                                    batch_size=config.BATCH_SIZE, S=config.S, anchors=config.ANCHORS,\n",
        "                                    transform=None, used_layers=config.LAYERS)"
      ],
      "execution_count": null,
      "outputs": []
    },
    {
      "cell_type": "code",
      "metadata": {
        "id": "-AFjDJHNpMBi"
      },
      "source": [
        "# test model\n",
        "test(loader, model)"
      ],
      "execution_count": null,
      "outputs": []
    }
  ]
}